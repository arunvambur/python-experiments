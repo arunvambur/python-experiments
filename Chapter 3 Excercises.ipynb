{
 "cells": [
  {
   "cell_type": "markdown",
   "id": "4e379699",
   "metadata": {},
   "source": [
    "### 1 \n",
    "You bought a spool of 1.75 mm filament for your 3D printer. You want to measure how close the filament diameter really is to 1.75 mm. You use a caliper tool and sample the diameter five times on the spool: \n",
    "1.78, 1.75, 1.72, 1.74, 1.77\n",
    "\n",
    "Calculate the mean and standard deviation for this set of values"
   ]
  },
  {
   "cell_type": "code",
   "execution_count": 4,
   "id": "92231f66",
   "metadata": {},
   "outputs": [],
   "source": [
    "from math import sqrt"
   ]
  },
  {
   "cell_type": "code",
   "execution_count": 5,
   "id": "cb630c50",
   "metadata": {},
   "outputs": [
    {
     "name": "stdout",
     "output_type": "stream",
     "text": [
      "1.752\n"
     ]
    }
   ],
   "source": [
    "# Calculating mean in python\n",
    "sample = [1.78, 1.75, 1.72, 1.74, 1.77]\n",
    "mean = sum(sample)/len(sample)\n",
    "print(mean)"
   ]
  },
  {
   "cell_type": "code",
   "execution_count": 6,
   "id": "b8ff30da",
   "metadata": {},
   "outputs": [
    {
     "name": "stdout",
     "output_type": "stream",
     "text": [
      "0.02135415650406264\n"
     ]
    }
   ],
   "source": [
    "def variance(values):\n",
    "    mean = sum(values)/len(values)\n",
    "    _variance = sum((v -mean)**2 for v in values)/len(values)\n",
    "    return _variance\n",
    "\n",
    "def std_dev(values):\n",
    "    return sqrt(variance(values))\n",
    "\n",
    "print(std_dev(sample))"
   ]
  },
  {
   "cell_type": "code",
   "execution_count": 7,
   "id": "c7528e46",
   "metadata": {},
   "outputs": [
    {
     "name": "stdout",
     "output_type": "stream",
     "text": [
      "0.00045600000000000084\n"
     ]
    }
   ],
   "source": [
    "#variance\n",
    "print(variance(sample))"
   ]
  },
  {
   "cell_type": "markdown",
   "id": "c48a55f2",
   "metadata": {},
   "source": [
    "### 2.\n",
    "A manufacturer says the Z-Phone smart phone has a mean consumer life of 42\n",
    "months with a standard deviation of 8 months. Assuming a normal distribution,\n",
    "what is the probability a given random Z-Phone will last between 20 and 30\n",
    "months?"
   ]
  },
  {
   "cell_type": "code",
   "execution_count": 17,
   "id": "a5a602cb",
   "metadata": {},
   "outputs": [
    {
     "name": "stdout",
     "output_type": "stream",
     "text": [
      "0.06382743803380352\n"
     ]
    }
   ],
   "source": [
    "# The normal distribution CDF in python\n",
    "from scipy.stats import norm\n",
    "\n",
    "mean = 42\n",
    "std_dev = 8\n",
    "\n",
    "x = norm.cdf(30, mean, std_dev) - norm.cdf(20, mean, std_dev) \n",
    "\n",
    "print(x)"
   ]
  },
  {
   "cell_type": "markdown",
   "id": "d310f0cf",
   "metadata": {},
   "source": [
    "### 3.\n",
    "I am skeptical that my 3D printer filament is not 1.75 mm in average diameter\n",
    "as advertised. I sampled 34 measurements with my tool. The sample mean is\n",
    "1.715588 and the sample standard deviation is 0.029252.\n",
    "What is the 99% confidence interval for the mean of my entire spool of filament?"
   ]
  },
  {
   "cell_type": "code",
   "execution_count": 19,
   "id": "f2ea8688",
   "metadata": {},
   "outputs": [
    {
     "name": "stdout",
     "output_type": "stream",
     "text": [
      "(1.7026658973748656, 1.7285101026251342)\n"
     ]
    }
   ],
   "source": [
    "# Calculating a confidenc interval in python\n",
    "\n",
    "from math import sqrt\n",
    "from scipy.stats import norm\n",
    "\n",
    "def critical_z_value(p):\n",
    "    norm_dist = norm(loc=0.0, scale=1.0)\n",
    "    left_tail_area = (1.0 - p)/2.0\n",
    "    upper_area = 1.0 - ((1.0 - p)/2.0)\n",
    "    upper_area = 1.0 - ((1.0 -p)/2.0)\n",
    "    return norm_dist.ppf(left_tail_area), norm_dist.ppf(upper_area)\n",
    "\n",
    "def confidence_interval(p, sample_mean, sample_std, n):\n",
    "    lower, upper = critical_z_value(p)\n",
    "    lower_ci = lower * (sample_std/sqrt(n))\n",
    "    upper_ci = upper * (sample_std/sqrt(n))\n",
    "    \n",
    "    return sample_mean + lower_ci, sample_mean + upper_ci\n",
    "\n",
    "print(confidence_interval(p=.99, sample_mean=1.715588, sample_std=0.029252, n=34))"
   ]
  },
  {
   "cell_type": "markdown",
   "id": "dbb522a0",
   "metadata": {},
   "source": [
    "### 4\n",
    "Your marketing department has started a new advertising campaign and wants to know if it affected sales, which in the past averaged $10,345 a day with a standard deviation of $552. The new advertising campaign ran for 45 days and averaged\n",
    "$11,641 in sales.\n",
    "\n",
    "Did the campaign affect sales? Why or why not? (Use a two-tailed test for more reliable significance.)"
   ]
  },
  {
   "cell_type": "code",
   "execution_count": 21,
   "id": "12a55065",
   "metadata": {},
   "outputs": [
    {
     "name": "stdout",
     "output_type": "stream",
     "text": [
      "5.293676656864651e-78\n",
      "1.0\n"
     ]
    }
   ],
   "source": [
    "from scipy.stats import norm\n",
    "\n",
    "mean = 10345\n",
    "std_dev = 552\n",
    "\n",
    "p1 = norm.cdf(45, mean, std_dev)\n",
    "\n",
    "p2 = 1.0 - norm.cdf(45, mean, std_dev)\n",
    "\n",
    "print(p1)\n",
    "\n",
    "p_value = p1 + p2\n",
    "\n",
    "print(p_value)"
   ]
  },
  {
   "cell_type": "code",
   "execution_count": null,
   "id": "6e76a3a6",
   "metadata": {},
   "outputs": [],
   "source": []
  },
  {
   "cell_type": "code",
   "execution_count": null,
   "id": "dbf4795c",
   "metadata": {},
   "outputs": [],
   "source": []
  },
  {
   "cell_type": "code",
   "execution_count": null,
   "id": "9ba0516e",
   "metadata": {},
   "outputs": [],
   "source": []
  },
  {
   "cell_type": "code",
   "execution_count": null,
   "id": "4d5ee1d8",
   "metadata": {},
   "outputs": [],
   "source": []
  },
  {
   "cell_type": "code",
   "execution_count": null,
   "id": "d501c6ef",
   "metadata": {},
   "outputs": [],
   "source": []
  },
  {
   "cell_type": "code",
   "execution_count": null,
   "id": "753ed8e8",
   "metadata": {},
   "outputs": [],
   "source": []
  },
  {
   "cell_type": "code",
   "execution_count": null,
   "id": "363dbdef",
   "metadata": {},
   "outputs": [],
   "source": []
  },
  {
   "cell_type": "code",
   "execution_count": null,
   "id": "7760402c",
   "metadata": {},
   "outputs": [],
   "source": []
  },
  {
   "cell_type": "code",
   "execution_count": null,
   "id": "3eb2b6cc",
   "metadata": {},
   "outputs": [],
   "source": []
  },
  {
   "cell_type": "code",
   "execution_count": null,
   "id": "40b75c74",
   "metadata": {},
   "outputs": [],
   "source": []
  },
  {
   "cell_type": "code",
   "execution_count": null,
   "id": "98efd607",
   "metadata": {},
   "outputs": [],
   "source": []
  },
  {
   "cell_type": "code",
   "execution_count": null,
   "id": "1dc3a849",
   "metadata": {},
   "outputs": [],
   "source": []
  },
  {
   "cell_type": "code",
   "execution_count": null,
   "id": "f9b92fda",
   "metadata": {},
   "outputs": [],
   "source": []
  },
  {
   "cell_type": "code",
   "execution_count": null,
   "id": "5e0cda0c",
   "metadata": {},
   "outputs": [],
   "source": []
  }
 ],
 "metadata": {
  "kernelspec": {
   "display_name": "Python 3 (ipykernel)",
   "language": "python",
   "name": "python3"
  },
  "language_info": {
   "codemirror_mode": {
    "name": "ipython",
    "version": 3
   },
   "file_extension": ".py",
   "mimetype": "text/x-python",
   "name": "python",
   "nbconvert_exporter": "python",
   "pygments_lexer": "ipython3",
   "version": "3.11.4"
  }
 },
 "nbformat": 4,
 "nbformat_minor": 5
}
